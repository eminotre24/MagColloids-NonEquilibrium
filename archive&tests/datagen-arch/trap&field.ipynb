{
 "cells": [
  {
   "cell_type": "code",
   "execution_count": 1,
   "metadata": {},
   "outputs": [],
   "source": [
    "import sys\n",
    "import os\n",
    "import numpy as np\n",
    "import matplotlib as mplt\n",
    "import matplotlib.pyplot as plt\n",
    "import matplotlib.animation as animation\n",
    "from matplotlib.animation import FFMpegFileWriter\n",
    "import pandas as pd\n",
    "sys.path.insert(0, './magcolloids')\n",
    "\n",
    "import magcolloids as mgc\n",
    "#pint parameter\n",
    "ureg = mgc.ureg"
   ]
  },
  {
   "cell_type": "markdown",
   "metadata": {},
   "source": [
    "EXTRAS"
   ]
  },
  {
   "cell_type": "code",
   "execution_count": 2,
   "metadata": {},
   "outputs": [],
   "source": [
    "plt.rcParams['animation.ffmpeg_path'] = r'C:\\\\FFmpeg\\\\bin\\\\ffmpeg'\n",
    "mplt.rcParams['agg.path.chunksize'] = 100000\n",
    "\n",
    "def redefine_field(field,tilt_angle):\n",
    "    field.fieldx = 'v_Bmag*(sin(v_freq*time*2*PI)*sin(v_theta)+cos(v_theta)*%s)'%np.sin(tilt_angle).magnitude\n",
    "    field.fieldy = 'v_Bmag*(cos(v_freq*time*2*PI)*sin(v_theta))'%np.sin(tilt_angle).magnitude\n",
    "    field.fieldz = 'v_Bmag*(cos(v_theta)*%s)'%np.cos(tilt_angle).magnitude\n",
    "    return field"
   ]
  },
  {
   "cell_type": "code",
   "execution_count": 3,
   "metadata": {},
   "outputs": [],
   "source": [
    "num_of_particles = 400\n",
    "region, initial_conditions = mgc.initial_setup(num_of_particles, packing = 0.3, height = 4, radius = 1.4)"
   ]
  },
  {
   "cell_type": "code",
   "execution_count": 11,
   "metadata": {},
   "outputs": [
    {
     "data": {
      "text/plain": [
       "array([[-43.03937439, -43.03937439,   0.        ],\n",
       "       [-38.50891393, -43.03937439,   0.        ],\n",
       "       [-33.97845347, -43.03937439,   0.        ],\n",
       "       ...,\n",
       "       [ 33.97845347,  43.03937439,   0.        ],\n",
       "       [ 38.50891393,  43.03937439,   0.        ],\n",
       "       [ 43.03937439,  43.03937439,   0.        ]])"
      ]
     },
     "execution_count": 11,
     "metadata": {},
     "output_type": "execute_result"
    }
   ],
   "source": [
    "initial_conditions"
   ]
  },
  {
   "cell_type": "code",
   "execution_count": 14,
   "metadata": {},
   "outputs": [],
   "source": [
    "particles = mgc.particles(\n",
    "    np.array([[0,0,0]])*ureg.um,\n",
    "    radius = 2*ureg.um,\n",
    "    susceptibility = 1,\n",
    "    diffusion=0.07*ureg.um**2/ureg.s,\n",
    "    density = 1e3*ureg.kg/ureg.m**3,\n",
    "    temperature=300*ureg.K)\n",
    "\n",
    "#Traps\n",
    "stiffness_test = 3e-4\n",
    "distance_test = 0\n",
    "\n",
    "traps2 = mgc.bistable_trap(\n",
    "                np.array([[0,0,0]])*ureg.um,\n",
    "                np.array([[1,0,0]]),\n",
    "                particles, subsets = [0],\n",
    "                distance = distance_test*ureg.um,\n",
    "                height = 0 * ureg.pN*ureg.nm,\n",
    "                stiffness = stiffness_test*ureg.pN/ureg.nm)\n",
    "\n",
    "field = mgc.field(magnitude = 7.2*ureg.mT, frequency = 3*ureg.Hz, angle = 26.9*ureg.degrees)\n",
    "field = redefine_field(field,7*ureg.deg) #default 0\n",
    "\n",
    "world = mgc.world(particles, [traps2], temperature = 300*ureg.K,\n",
    "                  region=region*ureg.um, boundaries = ['p','p','f'], walls = [False,False,True],\n",
    "                  dipole_cutoff = 20*ureg.um)\n",
    "\n",
    "dir_c = r\"./\"\n",
    "f_nam = \"3part_trap_test\"\n",
    "\n",
    "sim = mgc.sim(dir_name = dir_c, file_name = f_nam,\n",
    "        timestep = 1e-4*ureg.s, framerate = 30*ureg.Hz, total_time = 1*ureg.s,\n",
    "        particles = particles, traps = [traps2], world = world, field = field,\n",
    "        output = [\"x\",\"y\",\"z\",\"mux\",\"muy\",\"muz\"])"
   ]
  },
  {
   "cell_type": "markdown",
   "metadata": {},
   "source": [
    "Simulation"
   ]
  },
  {
   "cell_type": "code",
   "execution_count": 15,
   "metadata": {},
   "outputs": [],
   "source": [
    "sim.generate_scripts()"
   ]
  },
  {
   "cell_type": "code",
   "execution_count": 16,
   "metadata": {},
   "outputs": [
    {
     "data": {
      "text/plain": [
       "CompletedProcess(args=['/Users/antonioortiz/Library/CloudStorage/OneDrive-InstitutoTecnologicoydeEstudiosSuperioresdeMonterrey/Research/OngoingProjects/ActiveBaths/MarkerFluctuations/magcolloids/magcolloids/lammps_executables/lmp_mac', '-in', './3part_trap_test.lmpin'], returncode=0, stdout=b'LAMMPS (18 Jun 2019)\\nReading data file ...\\n  orthogonal box = (-45.5 -45.5 -2) to (45.5 45.5 2)\\n  1 by 1 by 1 MPI processor grid\\n  reading atoms ...\\n  2 atoms\\n  scanning bonds ...\\n  1 = max bonds/atom\\n  reading bonds ...\\n  1 bonds\\nFinding 1-2 1-3 1-4 neighbors ...\\n  special bond factors lj:   0          0          0         \\n  special bond factors coul: 0          0          0         \\n  1 = max # of 1-2 neighbors\\n  0 = max # of 1-3 neighbors\\n  0 = max # of 1-4 neighbors\\n  1 = max # of special neighbors\\n  special bonds CPU = 1.78814e-05 secs\\n  read_data CPU = 0.002038 secs\\n1 atoms in group Atoms\\n1 atoms in group Traps\\nNeighbor list info ...\\n  update every 1 steps, delay 1 steps, check yes\\n  max neighbors/atom: 2000, page size: 100000\\n  master list distance cutoff = 21\\n  ghost atom cutoff = 21\\n  binsize = 10.5, bins = 9 9 1\\n  3 neighbor lists, perpetual/occasional/extra = 3 0 0\\n  (1) pair lj/cut/dipole/cut, perpetual, skip from (3)\\n      attributes: half, newton on\\n      pair build: skip\\n      stencil: none\\n      bin: none\\n  (2) fix setdipole, perpetual\\n      attributes: full, newton on\\n      pair build: full/bin\\n      stencil: full/bin/3d\\n      bin: standard\\n  (3) neighbor class addition, perpetual, half/full from (2)\\n      attributes: half, newton on\\n      pair build: halffull/newton\\n      stencil: none\\n      bin: none\\nSetting up Verlet run ...\\n  Unit style    : micro\\n  Current step  : 0\\n  Time step     : 100\\nPer MPI rank memory allocation (min/avg/max) = 7.83 | 7.83 | 7.83 Mbytes\\nStep Atoms \\n       0        2 \\n     100        2 \\n     200        2 \\n     300        2 \\n     400        2 \\n     500        2 \\n     600        2 \\n     700        2 \\n     800        2 \\n     900        2 \\n    1000        2 \\n    1100        2 \\n    1200        2 \\n    1300        2 \\n    1400        2 \\n    1500        2 \\n    1600        2 \\n    1700        2 \\n    1800        2 \\n    1900        2 \\n    2000        2 \\n    2100        2 \\n    2200        2 \\n    2300        2 \\n    2400        2 \\n    2500        2 \\n    2600        2 \\n    2700        2 \\n    2800        2 \\n    2900        2 \\n    3000        2 \\n    3100        2 \\n    3200        2 \\n    3300        2 \\n    3400        2 \\n    3500        2 \\n    3600        2 \\n    3700        2 \\n    3800        2 \\n    3900        2 \\n    4000        2 \\n    4100        2 \\n    4200        2 \\n    4300        2 \\n    4400        2 \\n    4500        2 \\n    4600        2 \\n    4700        2 \\n    4800        2 \\n    4900        2 \\n    5000        2 \\n    5100        2 \\n    5200        2 \\n    5300        2 \\n    5400        2 \\n    5500        2 \\n    5600        2 \\n    5700        2 \\n    5800        2 \\n    5900        2 \\n    6000        2 \\n    6100        2 \\n    6200        2 \\n    6300        2 \\n    6400        2 \\n    6500        2 \\n    6600        2 \\n    6700        2 \\n    6800        2 \\n    6900        2 \\n    7000        2 \\n    7100        2 \\n    7200        2 \\n    7300        2 \\n    7400        2 \\n    7500        2 \\n    7600        2 \\n    7700        2 \\n    7800        2 \\n    7900        2 \\n    8000        2 \\n    8100        2 \\n    8200        2 \\n    8300        2 \\n    8400        2 \\n    8500        2 \\n    8600        2 \\n    8700        2 \\n    8800        2 \\n    8900        2 \\n    9000        2 \\n    9100        2 \\n    9200        2 \\n    9300        2 \\n    9400        2 \\n    9500        2 \\n    9600        2 \\n    9700        2 \\n    9800        2 \\n    9900        2 \\n   10000        2 \\nLoop time of 0.0991881 on 1 procs for 10000 steps with 2 atoms\\n\\nPerformance: 871072328826392.625 ns/day, 0.000 hours/ns, 100818.557 timesteps/s\\n98.0% CPU use with 1 MPI tasks x no OpenMP threads\\n\\nMPI task timing breakdown:\\nSection |  min time  |  avg time  |  max time  |%varavg| %total\\n---------------------------------------------------------------\\nPair    | 0.0011966  | 0.0011966  | 0.0011966  |   0.0 |  1.21\\nBond    | 0.00066257 | 0.00066257 | 0.00066257 |   0.0 |  0.67\\nNeigh   | 0          | 0          | 0          |   0.0 |  0.00\\nComm    | 0.0027995  | 0.0027995  | 0.0027995  |   0.0 |  2.82\\nOutput  | 0.00080705 | 0.00080705 | 0.00080705 |   0.0 |  0.81\\nModify  | 0.092452   | 0.092452   | 0.092452   |   0.0 | 93.21\\nOther   |            | 0.00127    |            |       |  1.28\\n\\nNlocal:    2 ave 2 max 2 min\\nHistogram: 1 0 0 0 0 0 0 0 0 0\\nNghost:    0 ave 0 max 0 min\\nHistogram: 1 0 0 0 0 0 0 0 0 0\\nNeighs:    0 ave 0 max 0 min\\nHistogram: 1 0 0 0 0 0 0 0 0 0\\nFullNghs:  0 ave 0 max 0 min\\nHistogram: 1 0 0 0 0 0 0 0 0 0\\n\\nTotal # of neighbors = 0\\nAve neighs/atom = 0\\nAve special neighs/atom = 1\\nNeighbor list builds = 0\\nDangerous builds = 0\\nTotal wall time: 0:00:00\\n', stderr=b'')"
      ]
     },
     "execution_count": 16,
     "metadata": {},
     "output_type": "execute_result"
    }
   ],
   "source": [
    "sim.run()"
   ]
  },
  {
   "cell_type": "markdown",
   "metadata": {},
   "source": [
    "## Two particles"
   ]
  },
  {
   "cell_type": "code",
   "execution_count": 40,
   "metadata": {},
   "outputs": [],
   "source": [
    "num_of_particles = 100\n",
    "region, initial_conditions = mgc.initial_setup(num_of_particles, packing = 0.3, height = 4, radius = 1.4)"
   ]
  },
  {
   "cell_type": "code",
   "execution_count": 45,
   "metadata": {},
   "outputs": [],
   "source": [
    "initial_conditions = np.array([[-5,0,0],[5,0,0]])"
   ]
  },
  {
   "cell_type": "code",
   "execution_count": 46,
   "metadata": {},
   "outputs": [],
   "source": [
    "particles = mgc.particles(\n",
    "    initial_conditions*ureg.um,\n",
    "    radius = 2*ureg.um,\n",
    "    susceptibility = 1,\n",
    "    diffusion=0.07*ureg.um**2/ureg.s,\n",
    "    density = 1e3*ureg.kg/ureg.m**3,\n",
    "    temperature=300*ureg.K)\n",
    "\n",
    "#Traps\n",
    "stiffness_test = 3e-4\n",
    "distance_test = 0\n",
    "\n",
    "traps2 = mgc.bistable_trap(\n",
    "                initial_conditions[0:1,:]*ureg.um,\n",
    "                np.array([[1,0,0]]),\n",
    "                particles, subsets = [0],\n",
    "                distance = distance_test*ureg.um,\n",
    "                height = 0 * ureg.pN*ureg.nm,\n",
    "                stiffness = stiffness_test*ureg.pN/ureg.nm)\n",
    "\n",
    "field = mgc.field(magnitude = 7.2*ureg.mT, frequency = 3*ureg.Hz, angle = 26.9*ureg.degrees)\n",
    "field = redefine_field(field,7*ureg.deg) #default 0\n",
    "\n",
    "world = mgc.world(particles, [traps2], temperature = 300*ureg.K,\n",
    "                  region=region*ureg.um, boundaries = ['p','p','f'], walls = [False,False,True],\n",
    "                  dipole_cutoff = 20*ureg.um)\n",
    "\n",
    "dir_c = r\"./\"\n",
    "f_nam = \"3part_trap_test_two\"\n",
    "\n",
    "sim = mgc.sim(dir_name = dir_c, file_name = f_nam,\n",
    "        timestep = 1e-4*ureg.s, framerate = 30*ureg.Hz, total_time = 1*ureg.s,\n",
    "        particles = particles, traps = [traps2], world = world, field = field,\n",
    "        output = [\"x\",\"y\",\"z\",\"mux\",\"muy\",\"muz\"])"
   ]
  },
  {
   "cell_type": "markdown",
   "metadata": {},
   "source": [
    "Simulation"
   ]
  },
  {
   "cell_type": "code",
   "execution_count": 47,
   "metadata": {},
   "outputs": [],
   "source": [
    "sim.generate_scripts()"
   ]
  },
  {
   "cell_type": "code",
   "execution_count": 48,
   "metadata": {},
   "outputs": [
    {
     "data": {
      "text/plain": [
       "CompletedProcess(args=['/Users/antonioortiz/Library/CloudStorage/OneDrive-InstitutoTecnologicoydeEstudiosSuperioresdeMonterrey/Research/OngoingProjects/ActiveBaths/MarkerFluctuations/magcolloids/magcolloids/lammps_executables/lmp_mac', '-in', './3part_trap_test_two.lmpin'], returncode=0, stdout=b'LAMMPS (18 Jun 2019)\\nReading data file ...\\n  orthogonal box = (-22.5 -22.5 -2) to (22.5 22.5 2)\\n  1 by 1 by 1 MPI processor grid\\n  reading atoms ...\\n  3 atoms\\n  scanning bonds ...\\n  1 = max bonds/atom\\n  reading bonds ...\\n  1 bonds\\nFinding 1-2 1-3 1-4 neighbors ...\\n  special bond factors lj:   0          0          0         \\n  special bond factors coul: 0          0          0         \\n  1 = max # of 1-2 neighbors\\n  0 = max # of 1-3 neighbors\\n  0 = max # of 1-4 neighbors\\n  1 = max # of special neighbors\\n  special bonds CPU = 1.97887e-05 secs\\n  read_data CPU = 0.00202203 secs\\n2 atoms in group Atoms\\n1 atoms in group Traps\\nNeighbor list info ...\\n  update every 1 steps, delay 1 steps, check yes\\n  max neighbors/atom: 2000, page size: 100000\\n  master list distance cutoff = 21\\n  ghost atom cutoff = 21\\n  binsize = 10.5, bins = 5 5 1\\n  3 neighbor lists, perpetual/occasional/extra = 3 0 0\\n  (1) pair lj/cut/dipole/cut, perpetual, skip from (3)\\n      attributes: half, newton on\\n      pair build: skip\\n      stencil: none\\n      bin: none\\n  (2) fix setdipole, perpetual\\n      attributes: full, newton on\\n      pair build: full/bin\\n      stencil: full/bin/3d\\n      bin: standard\\n  (3) neighbor class addition, perpetual, half/full from (2)\\n      attributes: half, newton on\\n      pair build: halffull/newton\\n      stencil: none\\n      bin: none\\nSetting up Verlet run ...\\n  Unit style    : micro\\n  Current step  : 0\\n  Time step     : 100\\nPer MPI rank memory allocation (min/avg/max) = 7.825 | 7.825 | 7.825 Mbytes\\nStep Atoms \\n       0        3 \\n     100        3 \\n     200        3 \\n     300        3 \\n     400        3 \\n     500        3 \\n     600        3 \\n     700        3 \\n     800        3 \\n     900        3 \\n    1000        3 \\n    1100        3 \\n    1200        3 \\n    1300        3 \\n    1400        3 \\n    1500        3 \\n    1600        3 \\n    1700        3 \\n    1800        3 \\n    1900        3 \\n    2000        3 \\n    2100        3 \\n    2200        3 \\n    2300        3 \\n    2400        3 \\n    2500        3 \\n    2600        3 \\n    2700        3 \\n    2800        3 \\n    2900        3 \\n    3000        3 \\n    3100        3 \\n    3200        3 \\n    3300        3 \\n    3400        3 \\n    3500        3 \\n    3600        3 \\n    3700        3 \\n    3800        3 \\n    3900        3 \\n    4000        3 \\n    4100        3 \\n    4200        3 \\n    4300        3 \\n    4400        3 \\n    4500        3 \\n    4600        3 \\n    4700        3 \\n    4800        3 \\n    4900        3 \\n    5000        3 \\n    5100        3 \\n    5200        3 \\n    5300        3 \\n    5400        3 \\n    5500        3 \\n    5600        3 \\n    5700        3 \\n    5800        3 \\n    5900        3 \\n    6000        3 \\n    6100        3 \\n    6200        3 \\n    6300        3 \\n    6400        3 \\n    6500        3 \\n    6600        3 \\n    6700        3 \\n    6800        3 \\n    6900        3 \\n    7000        3 \\n    7100        3 \\n    7200        3 \\n    7300        3 \\n    7400        3 \\n    7500        3 \\n    7600        3 \\n    7700        3 \\n    7800        3 \\n    7900        3 \\n    8000        3 \\n    8100        3 \\n    8200        3 \\n    8300        3 \\n    8400        3 \\n    8500        3 \\n    8600        3 \\n    8700        3 \\n    8800        3 \\n    8900        3 \\n    9000        3 \\n    9100        3 \\n    9200        3 \\n    9300        3 \\n    9400        3 \\n    9500        3 \\n    9600        3 \\n    9700        3 \\n    9800        3 \\n    9900        3 \\n   10000        3 \\nLoop time of 0.10993 on 1 procs for 10000 steps with 3 atoms\\n\\nPerformance: 785954423527370.500 ns/day, 0.000 hours/ns, 90966.947 timesteps/s\\n96.9% CPU use with 1 MPI tasks x no OpenMP threads\\n\\nMPI task timing breakdown:\\nSection |  min time  |  avg time  |  max time  |%varavg| %total\\n---------------------------------------------------------------\\nPair    | 0.0021238  | 0.0021238  | 0.0021238  |   0.0 |  1.93\\nBond    | 0.00068212 | 0.00068212 | 0.00068212 |   0.0 |  0.62\\nNeigh   | 7.081e-05  | 7.081e-05  | 7.081e-05  |   0.0 |  0.06\\nComm    | 0.0033097  | 0.0033097  | 0.0033097  |   0.0 |  3.01\\nOutput  | 0.0010979  | 0.0010979  | 0.0010979  |   0.0 |  1.00\\nModify  | 0.10114    | 0.10114    | 0.10114    |   0.0 | 92.00\\nOther   |            | 0.001506   |            |       |  1.37\\n\\nNlocal:    3 ave 3 max 3 min\\nHistogram: 1 0 0 0 0 0 0 0 0 0\\nNghost:    3 ave 3 max 3 min\\nHistogram: 1 0 0 0 0 0 0 0 0 0\\nNeighs:    1 ave 1 max 1 min\\nHistogram: 1 0 0 0 0 0 0 0 0 0\\nFullNghs:  2 ave 2 max 2 min\\nHistogram: 1 0 0 0 0 0 0 0 0 0\\n\\nTotal # of neighbors = 2\\nAve neighs/atom = 0.666667\\nAve special neighs/atom = 0.666667\\nNeighbor list builds = 8\\nDangerous builds = 0\\nTotal wall time: 0:00:00\\n', stderr=b'')"
      ]
     },
     "execution_count": 48,
     "metadata": {},
     "output_type": "execute_result"
    }
   ],
   "source": [
    "sim.run()"
   ]
  },
  {
   "cell_type": "markdown",
   "metadata": {},
   "source": [
    "## Many Particles"
   ]
  },
  {
   "cell_type": "code",
   "execution_count": 56,
   "metadata": {},
   "outputs": [],
   "source": [
    "num_of_particles = 100\n",
    "region, initial_conditions = mgc.initial_setup(num_of_particles, packing = 0.3, height = 4, radius = 1.4)"
   ]
  },
  {
   "cell_type": "code",
   "execution_count": 57,
   "metadata": {},
   "outputs": [
    {
     "data": {
      "text/plain": [
       "array([[-20.38707208, -15.85661162,   0.        ]])"
      ]
     },
     "execution_count": 57,
     "metadata": {},
     "output_type": "execute_result"
    }
   ],
   "source": [
    "initial_conditions[10:11,:]"
   ]
  },
  {
   "cell_type": "code",
   "execution_count": 58,
   "metadata": {},
   "outputs": [],
   "source": [
    "particles = mgc.particles(\n",
    "    initial_conditions*ureg.um,\n",
    "    radius = 2*ureg.um,\n",
    "    susceptibility = 1,\n",
    "    diffusion=0.07*ureg.um**2/ureg.s,\n",
    "    density = 1e3*ureg.kg/ureg.m**3,\n",
    "    temperature=300*ureg.K)\n",
    "\n",
    "#Traps\n",
    "stiffness_test = 300e-4\n",
    "distance_test = 0\n",
    "\n",
    "traps2 = mgc.bistable_trap(\n",
    "                initial_conditions[10:11,:]*ureg.um,\n",
    "                np.array([[1,0,0]]),\n",
    "                particles, subsets = [10],\n",
    "                distance = distance_test*ureg.um,\n",
    "                height = 0 * ureg.pN*ureg.nm,\n",
    "                stiffness = stiffness_test*ureg.pN/ureg.nm)\n",
    "\n",
    "field = mgc.field(magnitude = 7.2*ureg.mT, frequency = 3*ureg.Hz, angle = 26.9*ureg.degrees)\n",
    "field = redefine_field(field,7*ureg.deg) #default 0\n",
    "\n",
    "world = mgc.world(particles, [traps2], temperature = 300*ureg.K,\n",
    "                  region=region*ureg.um, boundaries = ['p','p','f'], walls = [False,False,True],\n",
    "                  dipole_cutoff = 20*ureg.um)\n",
    "\n",
    "dir_c = r\"./\"\n",
    "f_nam = \"3part_trap_test_many\"\n",
    "\n",
    "sim = mgc.sim(dir_name = dir_c, file_name = f_nam,\n",
    "        timestep = 1e-4*ureg.s, framerate = 30*ureg.Hz, total_time = 1*ureg.s,\n",
    "        particles = particles, traps = [traps2], world = world, field = field,\n",
    "        output = [\"x\",\"y\",\"z\",\"mux\",\"muy\",\"muz\"])"
   ]
  },
  {
   "cell_type": "markdown",
   "metadata": {},
   "source": [
    "Simulation"
   ]
  },
  {
   "cell_type": "code",
   "execution_count": 59,
   "metadata": {},
   "outputs": [],
   "source": [
    "sim.generate_scripts()"
   ]
  },
  {
   "cell_type": "code",
   "execution_count": 60,
   "metadata": {},
   "outputs": [
    {
     "data": {
      "text/plain": [
       "CompletedProcess(args=['/Users/antonioortiz/Library/CloudStorage/OneDrive-InstitutoTecnologicoydeEstudiosSuperioresdeMonterrey/Research/OngoingProjects/ActiveBaths/MarkerFluctuations/magcolloids/magcolloids/lammps_executables/lmp_mac', '-in', './3part_trap_test_many.lmpin'], returncode=0, stdout=b'LAMMPS (18 Jun 2019)\\nReading data file ...\\n  orthogonal box = (-22.5 -22.5 -2) to (22.5 22.5 2)\\n  1 by 1 by 1 MPI processor grid\\n  reading atoms ...\\n  101 atoms\\n  scanning bonds ...\\n  1 = max bonds/atom\\n  reading bonds ...\\n  1 bonds\\nFinding 1-2 1-3 1-4 neighbors ...\\n  special bond factors lj:   0          0          0         \\n  special bond factors coul: 0          0          0         \\n  1 = max # of 1-2 neighbors\\n  0 = max # of 1-3 neighbors\\n  0 = max # of 1-4 neighbors\\n  1 = max # of special neighbors\\n  special bonds CPU = 4.29153e-05 secs\\n  read_data CPU = 0.00267911 secs\\n100 atoms in group Atoms\\n1 atoms in group Traps\\nNeighbor list info ...\\n  update every 1 steps, delay 1 steps, check yes\\n  max neighbors/atom: 2000, page size: 100000\\n  master list distance cutoff = 21\\n  ghost atom cutoff = 21\\n  binsize = 10.5, bins = 5 5 1\\n  3 neighbor lists, perpetual/occasional/extra = 3 0 0\\n  (1) pair lj/cut/dipole/cut, perpetual, skip from (3)\\n      attributes: half, newton on\\n      pair build: skip\\n      stencil: none\\n      bin: none\\n  (2) fix setdipole, perpetual\\n      attributes: full, newton on\\n      pair build: full/bin\\n      stencil: full/bin/3d\\n      bin: standard\\n  (3) neighbor class addition, perpetual, half/full from (2)\\n      attributes: half, newton on\\n      pair build: halffull/newton\\n      stencil: none\\n      bin: none\\nSetting up Verlet run ...\\n  Unit style    : micro\\n  Current step  : 0\\n  Time step     : 100\\nPer MPI rank memory allocation (min/avg/max) = 7.86 | 7.86 | 7.86 Mbytes\\nStep Atoms \\n       0      101 \\n     100      101 \\n     200      101 \\n     300      101 \\n     400      101 \\n     500      101 \\n     600      101 \\n     700      101 \\n     800      101 \\n     900      101 \\n    1000      101 \\n    1100      101 \\n    1200      101 \\n    1300      101 \\n    1400      101 \\n    1500      101 \\n    1600      101 \\n    1700      101 \\n    1800      101 \\n    1900      101 \\n    2000      101 \\n    2100      101 \\n    2200      101 \\n    2300      101 \\n    2400      101 \\n    2500      101 \\n    2600      101 \\n    2700      101 \\n    2800      101 \\n    2900      101 \\n    3000      101 \\n    3100      101 \\n    3200      101 \\n    3300      101 \\n    3400      101 \\n    3500      101 \\n    3600      101 \\n    3700      101 \\n    3800      101 \\n    3900      101 \\n    4000      101 \\n    4100      101 \\n    4200      101 \\n    4300      101 \\n    4400      101 \\n    4500      101 \\n    4600      101 \\n    4700      101 \\n    4800      101 \\n    4900      101 \\n    5000      101 \\n    5100      101 \\n    5200      101 \\n    5300      101 \\n    5400      101 \\n    5500      101 \\n    5600      101 \\n    5700      101 \\n    5800      101 \\n    5900      101 \\n    6000      101 \\n    6100      101 \\n    6200      101 \\n    6300      101 \\n    6400      101 \\n    6500      101 \\n    6600      101 \\n    6700      101 \\n    6800      101 \\n    6900      101 \\n    7000      101 \\n    7100      101 \\n    7200      101 \\n    7300      101 \\n    7400      101 \\n    7500      101 \\n    7600      101 \\n    7700      101 \\n    7800      101 \\n    7900      101 \\n    8000      101 \\n    8100      101 \\n    8200      101 \\n    8300      101 \\n    8400      101 \\n    8500      101 \\n    8600      101 \\n    8700      101 \\n    8800      101 \\n    8900      101 \\n    9000      101 \\n    9100      101 \\n    9200      101 \\n    9300      101 \\n    9400      101 \\n    9500      101 \\n    9600      101 \\n    9700      101 \\n    9800      101 \\n    9900      101 \\n   10000      101 \\nLoop time of 1.00952 on 1 procs for 10000 steps with 101 atoms\\n\\nPerformance: 85585567674023.312 ns/day, 0.000 hours/ns, 9905.737 timesteps/s\\n97.7% CPU use with 1 MPI tasks x no OpenMP threads\\n\\nMPI task timing breakdown:\\nSection |  min time  |  avg time  |  max time  |%varavg| %total\\n---------------------------------------------------------------\\nPair    | 0.73676    | 0.73676    | 0.73676    |   0.0 | 72.98\\nBond    | 0.00082159 | 0.00082159 | 0.00082159 |   0.0 |  0.08\\nNeigh   | 0.034661   | 0.034661   | 0.034661   |   0.0 |  3.43\\nComm    | 0.028049   | 0.028049   | 0.028049   |   0.0 |  2.78\\nOutput  | 0.0060487  | 0.0060487  | 0.0060487  |   0.0 |  0.60\\nModify  | 0.19557    | 0.19557    | 0.19557    |   0.0 | 19.37\\nOther   |            | 0.007611   |            |       |  0.75\\n\\nNlocal:    101 ave 101 max 101 min\\nHistogram: 1 0 0 0 0 0 0 0 0 0\\nNghost:    277 ave 277 max 277 min\\nHistogram: 1 0 0 0 0 0 0 0 0 0\\nNeighs:    3366 ave 3366 max 3366 min\\nHistogram: 1 0 0 0 0 0 0 0 0 0\\nFullNghs:  6732 ave 6732 max 6732 min\\nHistogram: 1 0 0 0 0 0 0 0 0 0\\n\\nTotal # of neighbors = 6732\\nAve neighs/atom = 66.6535\\nAve special neighs/atom = 0.019802\\nNeighbor list builds = 217\\nDangerous builds = 0\\nTotal wall time: 0:00:01\\n', stderr=b'')"
      ]
     },
     "execution_count": 60,
     "metadata": {},
     "output_type": "execute_result"
    }
   ],
   "source": [
    "sim.run()"
   ]
  },
  {
   "cell_type": "code",
   "execution_count": null,
   "metadata": {},
   "outputs": [],
   "source": []
  }
 ],
 "metadata": {
  "kernelspec": {
   "display_name": "Python 3 (ipykernel)",
   "language": "python",
   "name": "python3"
  },
  "language_info": {
   "codemirror_mode": {
    "name": "ipython",
    "version": 3
   },
   "file_extension": ".py",
   "mimetype": "text/x-python",
   "name": "python",
   "nbconvert_exporter": "python",
   "pygments_lexer": "ipython3",
   "version": "3.11.8"
  }
 },
 "nbformat": 4,
 "nbformat_minor": 4
}
