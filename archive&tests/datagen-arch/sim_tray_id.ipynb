{
 "cells": [
  {
   "cell_type": "code",
   "execution_count": 75,
   "metadata": {},
   "outputs": [],
   "source": [
    "import sys\n",
    "import os\n",
    "import numpy as np\n",
    "import matplotlib as mplt\n",
    "import matplotlib.pyplot as plt\n",
    "import matplotlib.animation as animation\n",
    "from matplotlib.animation import FFMpegFileWriter\n",
    "import pandas as pd\n",
    "sys.path.insert(0, '../../')\n",
    "\n",
    "import magcolloids as mgc\n",
    "#pint parameter\n",
    "ureg = mgc.ureg"
   ]
  },
  {
   "cell_type": "markdown",
   "metadata": {},
   "source": [
    "EXTRAS"
   ]
  },
  {
   "cell_type": "code",
   "execution_count": 76,
   "metadata": {},
   "outputs": [],
   "source": [
    "plt.rcParams['animation.ffmpeg_path'] = r'C:\\\\ffmpeg\\\\bin\\\\ffmpeg'\n",
    "mplt.rcParams['agg.path.chunksize'] = 100000\n",
    "\n",
    "def redefine_field(field,tilt_angle):\n",
    "    field.fieldx = 'v_Bmag*(sin(v_freq*time*2*PI)*sin(v_theta)+cos(v_theta)*%s)'%np.sin(tilt_angle).magnitude\n",
    "    field.fieldy = 'v_Bmag*(cos(v_freq*time*2*PI)*sin(v_theta))'%np.sin(tilt_angle).magnitude\n",
    "    field.fieldz = 'v_Bmag*(cos(v_theta)*%s)'%np.cos(tilt_angle).magnitude\n",
    "    return field"
   ]
  },
  {
   "cell_type": "markdown",
   "metadata": {},
   "source": [
    "Trayectory Plotting"
   ]
  },
  {
   "cell_type": "code",
   "execution_count": 77,
   "metadata": {},
   "outputs": [],
   "source": [
    "num_of_particles = 150\n",
    "region, initial_conditions = mgc.initial_setup(num_of_particles, packing = 0.3, height = 4, radius = 1.4)\n",
    "\n",
    "particles = mgc.particles(\n",
    "    initial_conditions*ureg.um,\n",
    "    radius = 1.4*ureg.um,\n",
    "    diffusion=0.07*ureg.um**2/ureg.s,\n",
    "    density = 1000*ureg.kg/ureg.m**3,\n",
    "    temperature=300*ureg.K)\n",
    "\n",
    "field = mgc.field(magnitude = 7.2*ureg.mT, frequency=3.5*ureg.Hz, angle = 26.9*ureg.degrees)\n",
    "field = redefine_field(field,7*ureg.deg) #default 0\n",
    "\n",
    "world = mgc.world(particles, temperature = 300*ureg.K,\n",
    "                  region=region*ureg.um, boundaries = ['p','p','f'], walls = [False,False,True],\n",
    "                  dipole_cutoff = 20*ureg.um)"
   ]
  },
  {
   "cell_type": "markdown",
   "metadata": {},
   "source": [
    "Simulation"
   ]
  },
  {
   "cell_type": "code",
   "execution_count": 78,
   "metadata": {},
   "outputs": [],
   "source": [
    "sim = mgc.sim(dir_name = \"C:\\\\Users\\\\emino\\\\OneDrive\\\\Desktop\\\\MagColloids\\\\Trayectories\",\n",
    "        timestep = 1e-3*ureg.s, framerate = 30*ureg.Hz, total_time = 60*ureg.s,\n",
    "        particles = particles, world = world, field = field)"
   ]
  },
  {
   "cell_type": "code",
   "execution_count": 79,
   "metadata": {},
   "outputs": [
    {
     "ename": "IndexError",
     "evalue": "list index out of range",
     "output_type": "error",
     "traceback": [
      "\u001b[1;31m---------------------------------------------------------------------------\u001b[0m",
      "\u001b[1;31mIndexError\u001b[0m                                Traceback (most recent call last)",
      "Cell \u001b[1;32mIn[79], line 4\u001b[0m\n\u001b[0;32m      2\u001b[0m sim\u001b[38;5;241m.\u001b[39mrun()\n\u001b[0;32m      3\u001b[0m sim\u001b[38;5;241m.\u001b[39mload()\n\u001b[1;32m----> 4\u001b[0m trj \u001b[38;5;241m=\u001b[39m \u001b[43msim\u001b[49m\u001b[38;5;241;43m.\u001b[39;49m\u001b[43mlazy_read\u001b[49m\u001b[43m[\u001b[49m\u001b[43m:\u001b[49m\u001b[43m:\u001b[49m\u001b[43m]\u001b[49m\n",
      "File \u001b[1;32mc:\\Users\\emino\\OneDrive\\Desktop\\MagColloids\\magcolloids-master\\magcolloids\\simulation.py:338\u001b[0m, in \u001b[0;36mtrj_lazyread.__getitem__\u001b[1;34m(self, sliced)\u001b[0m\n\u001b[0;32m    337\u001b[0m \u001b[38;5;28;01mdef\u001b[39;00m \u001b[38;5;21m__getitem__\u001b[39m(\u001b[38;5;28mself\u001b[39m, sliced):\n\u001b[1;32m--> 338\u001b[0m     \u001b[38;5;28;01mreturn\u001b[39;00m \u001b[38;5;28;43mself\u001b[39;49m\u001b[38;5;241;43m.\u001b[39;49m\u001b[43mread_trj\u001b[49m\u001b[43m(\u001b[49m\u001b[43msliced\u001b[49m\u001b[43m)\u001b[49m\n",
      "File \u001b[1;32mc:\\Users\\emino\\OneDrive\\Desktop\\MagColloids\\magcolloids-master\\magcolloids\\simulation.py:377\u001b[0m, in \u001b[0;36mtrj_lazyread.read_trj\u001b[1;34m(self, *args)\u001b[0m\n\u001b[0;32m    374\u001b[0m \u001b[38;5;28;01mdef\u001b[39;00m \u001b[38;5;21mread_trj\u001b[39m(\u001b[38;5;28mself\u001b[39m,\u001b[38;5;241m*\u001b[39margs):\n\u001b[0;32m    375\u001b[0m \u001b[38;5;250m    \u001b[39m\u001b[38;5;124;03m\"\"\"reads a trj from the file and returns a pandas object. \u001b[39;00m\n\u001b[0;32m    376\u001b[0m \u001b[38;5;124;03m    accepts as first argument a slice object, which allows to read subsets of the file\"\"\"\u001b[39;00m\n\u001b[1;32m--> 377\u001b[0m     columns\u001b[38;5;241m=\u001b[39m[\u001b[38;5;124m'\u001b[39m\u001b[38;5;124mid\u001b[39m\u001b[38;5;124m'\u001b[39m]\u001b[38;5;241m+\u001b[39m[\u001b[38;5;124m'\u001b[39m\u001b[38;5;124mframe\u001b[39m\u001b[38;5;124m'\u001b[39m]\u001b[38;5;241m+\u001b[39m\u001b[38;5;28mlist\u001b[39m(\u001b[38;5;28mself\u001b[39m\u001b[38;5;241m.\u001b[39mread_frame(\u001b[38;5;28;43mlist\u001b[39;49m\u001b[43m(\u001b[49m\u001b[38;5;28;43mself\u001b[39;49m\u001b[38;5;241;43m.\u001b[39;49m\u001b[43mT\u001b[49m\u001b[38;5;241;43m.\u001b[39;49m\u001b[43mkeys\u001b[49m\u001b[43m(\u001b[49m\u001b[43m)\u001b[49m\u001b[43m)\u001b[49m\u001b[43m[\u001b[49m\u001b[38;5;241;43m0\u001b[39;49m\u001b[43m]\u001b[49m)\u001b[38;5;241m.\u001b[39mdtype\u001b[38;5;241m.\u001b[39mnames)\n\u001b[0;32m    379\u001b[0m     frames \u001b[38;5;241m=\u001b[39m np\u001b[38;5;241m.\u001b[39msort(np\u001b[38;5;241m.\u001b[39marray(\u001b[38;5;28mlist\u001b[39m(\u001b[38;5;28mself\u001b[39m\u001b[38;5;241m.\u001b[39mT\u001b[38;5;241m.\u001b[39mkeys())))\n\u001b[0;32m    380\u001b[0m     \u001b[38;5;28;01mif\u001b[39;00m \u001b[38;5;28mlen\u001b[39m(args)\u001b[38;5;241m>\u001b[39m\u001b[38;5;241m0\u001b[39m:\n",
      "\u001b[1;31mIndexError\u001b[0m: list index out of range"
     ]
    }
   ],
   "source": [
    "sim.generate_scripts()\n",
    "sim.run()\n",
    "sim.load()\n",
    "trj = sim.lazy_read[::]"
   ]
  },
  {
   "cell_type": "markdown",
   "metadata": {},
   "source": [
    "Checks"
   ]
  },
  {
   "cell_type": "code",
   "execution_count": null,
   "metadata": {},
   "outputs": [
    {
     "name": "stdout",
     "output_type": "stream",
     "text": [
      "MultiIndex([(0,   1),\n",
      "            (0,   2),\n",
      "            (0,   3),\n",
      "            (0,   4),\n",
      "            (0,   5),\n",
      "            (0,   6),\n",
      "            (0,   7),\n",
      "            (0,   8),\n",
      "            (0,   9),\n",
      "            (0,  10),\n",
      "            ...\n",
      "            (0, 135),\n",
      "            (0, 136),\n",
      "            (0, 137),\n",
      "            (0, 138),\n",
      "            (0, 139),\n",
      "            (0, 140),\n",
      "            (0, 141),\n",
      "            (0, 142),\n",
      "            (0, 143),\n",
      "            (0, 144)],\n",
      "           names=['frame', 'id'], length=144)\n",
      "<class 'pandas.core.frame.DataFrame'>\n",
      "Index([  1,   2,   3,   4,   5,   6,   7,   8,   9,  10,\n",
      "       ...\n",
      "       135, 136, 137, 138, 139, 140, 141, 142, 143, 144],\n",
      "      dtype='int64', name='id', length=144)\n"
     ]
    }
   ],
   "source": [
    "#print(trj)\n",
    "#trj.to_csv('trayectories csv\\\\trjmain.csv', index=True) #We save RAM space by downloading the trajectory file to a csv\n",
    "print(trj.index) #id is an index, so this should be the parameter we look for\n",
    "print(type(trj))\n",
    "print(trj.index.get_level_values(1))"
   ]
  },
  {
   "cell_type": "markdown",
   "metadata": {},
   "source": [
    "Plot of Trayectories"
   ]
  },
  {
   "cell_type": "code",
   "execution_count": null,
   "metadata": {},
   "outputs": [
    {
     "data": {
      "text/plain": [
       "Text(0, 0.5, 'x $\\\\mu{}m$')"
      ]
     },
     "execution_count": 74,
     "metadata": {},
     "output_type": "execute_result"
    },
    {
     "data": {
      "image/png": "[encoded data removed]",
      "text/plain": [
       "<Figure size 640x480 with 1 Axes>"
      ]
     },
     "metadata": {},
     "output_type": "display_data"
    }
   ],
   "source": [
    "for i in range(num_of_particles):\n",
    "    #plt.plot(sims[i].index.get_level_values('frame'),sims[i].x)\n",
    "    #print(len(sims[i].y.tolist()))\n",
    "    trjpart = trj[trj.index.get_level_values(1) == i]\n",
    "    s = trjpart.x.tolist()\n",
    "    plt.plot(s)\n",
    "plt.xlabel(\"Num de Frame\")\n",
    "plt.ylabel(r\"x $\\mu{}m$\")"
   ]
  }
 ],
 "metadata": {
  "kernelspec": {
   "display_name": "Python 3",
   "language": "python",
   "name": "python3"
  },
  "language_info": {
   "codemirror_mode": {
    "name": "ipython",
    "version": 3
   },
   "file_extension": ".py",
   "mimetype": "text/x-python",
   "name": "python",
   "nbconvert_exporter": "python",
   "pygments_lexer": "ipython3",
   "version": "3.12.2"
  }
 },
 "nbformat": 4,
 "nbformat_minor": 2
}
